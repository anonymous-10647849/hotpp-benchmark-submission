{
 "cells": [
  {
   "cell_type": "markdown",
   "id": "3fad5b61-9f77-4a41-a5a9-51824bbf2335",
   "metadata": {},
   "source": [
    "# Evaluate parallel autoregressive inference speed\n",
    "\n",
    "Compare HoTPP parallel autoregressive inference for multiple locations with simple prefix extension."
   ]
  },
  {
   "cell_type": "code",
   "execution_count": 1,
   "id": "d5a4cb95-4072-4cc5-aaf6-83cf82415148",
   "metadata": {},
   "outputs": [
    {
     "name": "stderr",
     "output_type": "stream",
     "text": [
      "Seed set to 0\n"
     ]
    }
   ],
   "source": [
    "import os\n",
    "import time\n",
    "import math\n",
    "import numpy as np\n",
    "import hydra\n",
    "import torch\n",
    "import hotpp\n",
    "import seaborn as sns\n",
    "from hotpp.data import PaddedBatch\n",
    "from matplotlib import pyplot as plt\n",
    "from pytorch_lightning import seed_everything\n",
    "\n",
    "DEVICE = \"cuda\" if torch.cuda.is_available() else \"cpu\"\n",
    "\n",
    "NAME = \"rmtpp\"\n",
    "ROOT = \"../experiments/stackoverflow/\"\n",
    "CONFIG_ROOT = os.path.join(ROOT, \"configs\")\n",
    "CONFIG = f\"{NAME}.yaml\"\n",
    "MAX_PREDICTIONS = 16\n",
    "\n",
    "def create():\n",
    "    with hydra.initialize(version_base=None, config_path=CONFIG_ROOT, job_name=NAME):\n",
    "        conf = hydra.compose(config_name=CONFIG, overrides=[\n",
    "            \"data_module.batch_size=16\",\n",
    "            f\"data_module.train_path={ROOT}/data/train.parquet\",\n",
    "            f\"data_module.val_path={ROOT}/data/val.parquet\",\n",
    "            f\"data_module.test_path={ROOT}/data/test.parquet\"\n",
    "        ])\n",
    "    model = hydra.utils.instantiate(conf.module).eval()\n",
    "    path = os.path.join(ROOT, conf.model_path)\n",
    "    checkpoint = torch.load(path)\n",
    "    if \"state_dict\" in checkpoint:\n",
    "        checkpoint = checkpoint[\"state_dict\"]\n",
    "    model.load_state_dict(checkpoint)\n",
    "    dm = hydra.utils.instantiate(conf.data_module)\n",
    "    return model, dm\n",
    "\n",
    "seed_everything(0)\n",
    "module, dm = create()"
   ]
  },
  {
   "cell_type": "code",
   "execution_count": 2,
   "id": "a4051381-7d43-4ab7-9191-c9455539fcff",
   "metadata": {},
   "outputs": [],
   "source": [
    "batch = next(iter(dm.val_dataloader()))[0]"
   ]
  },
  {
   "cell_type": "code",
   "execution_count": 3,
   "id": "3eda711e-8aa2-4043-b626-153fcbc78f06",
   "metadata": {},
   "outputs": [],
   "source": [
    "indices = torch.arange(0, batch.shape[1], 4)[None].repeat(len(batch), 1)\n",
    "indices = PaddedBatch(indices,\n",
    "                      (indices < batch.seq_lens[:, None]).sum(1)).to(batch.device)"
   ]
  },
  {
   "cell_type": "code",
   "execution_count": 6,
   "id": "4fe91f70-c4a2-4d29-abac-88fa55b62dbf",
   "metadata": {},
   "outputs": [
    {
     "name": "stdout",
     "output_type": "stream",
     "text": [
      "Parallel\n",
      "Time 0.14211785793304443\n"
     ]
    }
   ],
   "source": [
    "n_trials = 10\n",
    "torch.cuda.synchronize()\n",
    "start = time.time()\n",
    "for _ in range(n_trials):\n",
    "    module.generate_sequences(batch, indices)\n",
    "torch.cuda.synchronize()\n",
    "print(\"Parallel\")\n",
    "print(\"Time\", (time.time() - start) / n_trials)"
   ]
  },
  {
   "cell_type": "code",
   "execution_count": 7,
   "id": "2c1fc30b-5956-4f5e-8fdd-8b8db18c33a7",
   "metadata": {},
   "outputs": [
    {
     "name": "stdout",
     "output_type": "stream",
     "text": [
      "Prefix extension\n",
      "Time 2.440278959274292\n"
     ]
    }
   ],
   "source": [
    "n_trials = 10\n",
    "torch.cuda.synchronize()\n",
    "start = time.time()\n",
    "for _ in range(n_trials):\n",
    "    for i in range(indices.shape[1]):\n",
    "        prefix = i * 4 + 1\n",
    "        mask = i < indices.seq_lens\n",
    "        subbatch = PaddedBatch({k: batch.payload[k][mask, :prefix] for k in batch.seq_names}, batch.seq_lens[mask].clip(max=prefix))\n",
    "        subindices = PaddedBatch(indices.payload[mask][:, i:i+1], torch.ones(len(subbatch), dtype=torch.long, device=batch.device))\n",
    "        if len(subbatch) == 0:\n",
    "            continue\n",
    "        module.generate_sequences(subbatch, subindices)\n",
    "torch.cuda.synchronize()\n",
    "print(\"Prefix extension\")\n",
    "print(\"Time\", (time.time() - start) / n_trials)"
   ]
  }
 ],
 "metadata": {
  "kernelspec": {
   "display_name": "Python 3 (ipykernel)",
   "language": "python",
   "name": "python3"
  },
  "language_info": {
   "codemirror_mode": {
    "name": "ipython",
    "version": 3
   },
   "file_extension": ".py",
   "mimetype": "text/x-python",
   "name": "python",
   "nbconvert_exporter": "python",
   "pygments_lexer": "ipython3",
   "version": "3.12.3"
  }
 },
 "nbformat": 4,
 "nbformat_minor": 5
}
